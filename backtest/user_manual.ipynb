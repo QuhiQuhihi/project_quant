{
 "cells": [
  {
   "cell_type": "markdown",
   "metadata": {},
   "source": [
    "# User manual\n",
    "The following codes explain the minimal steps to run backtest."
   ]
  },
  {
   "cell_type": "markdown",
   "metadata": {},
   "source": [
    "### Import required modules"
   ]
  },
  {
   "cell_type": "code",
   "execution_count": 3,
   "metadata": {},
   "outputs": [],
   "source": [
    "from backtest_engine import BacktestEngine\n",
    "from target_generator import TargetGenerator"
   ]
  },
  {
   "cell_type": "markdown",
   "metadata": {},
   "source": [
    "### Initialize the backtest engine\n",
    "Your own API key for FRED is needed. It can be issued in https://fred.stlouisfed.org/ for free.  "
   ]
  },
  {
   "cell_type": "code",
   "execution_count": 5,
   "metadata": {},
   "outputs": [
    {
     "name": "stdout",
     "output_type": "stream",
     "text": [
      "[__init__] is executed in 32.08 seconds\n"
     ]
    }
   ],
   "source": [
    "engine = BacktestEngine(API_key=\"ad0b46ed99911d1f77534d035a2cdb72\")"
   ]
  },
  {
   "cell_type": "markdown",
   "metadata": {},
   "source": [
    "### Make customized target generator \n",
    "The target generator should inherit TargetGenerator as its super-class. \n",
    "The class below gives the equal-weighted portfolio for given universet of ETFs."
   ]
  },
  {
   "cell_type": "code",
   "execution_count": 6,
   "metadata": {},
   "outputs": [],
   "source": [
    "class EqualWeightGenerator(TargetGenerator):\n",
    "    def __init__(self, cache):\n",
    "        super().__init__(cache)\n",
    "\n",
    "    def compute_target(self, universe_list):\n",
    "        target_weight = {}\n",
    "        for ticker in universe_list:\n",
    "            target_weight[ticker] = 1\n",
    "            \n",
    "        target_weight = self.normalize(target_weight)\n",
    "\n",
    "        return target_weight"
   ]
  },
  {
   "cell_type": "markdown",
   "metadata": {},
   "source": [
    "### Initialize the target generator class\n",
    "The taget generator class needs the cache data of the backtest engine class."
   ]
  },
  {
   "cell_type": "code",
   "execution_count": 7,
   "metadata": {},
   "outputs": [],
   "source": [
    "mtg = EqualWeightGenerator(engine.cache)"
   ]
  },
  {
   "cell_type": "markdown",
   "metadata": {},
   "source": [
    "### Define universe\n",
    "You may define the customized universe of ETFs for the backtest. If you do not specify the universe, the backtest engine will automatically set the universe as a set of listed ETFs at a given date."
   ]
  },
  {
   "cell_type": "code",
   "execution_count": 8,
   "metadata": {},
   "outputs": [],
   "source": [
    "custom_universe = ['XLY', 'XLP', 'XLE' ,'XLF', 'XLV', 'XLI', 'XLB', 'XLK', 'XLU']"
   ]
  },
  {
   "cell_type": "markdown",
   "metadata": {},
   "source": [
    "### Run backtest\n",
    "Now you can run backtest. You should specify target_generator, sdate, and edate. The sdate and edate should be given as 'YYYY-MM-DD' format."
   ]
  },
  {
   "cell_type": "code",
   "execution_count": 9,
   "metadata": {},
   "outputs": [
    {
     "name": "stdout",
     "output_type": "stream",
     "text": [
      "Backtest period: 2010-01-04 00:00:00 -- 2020-12-31 00:00:00\n",
      "=== date:2020-12-31 00:00:00 / total_asset:3.561 / time elapsed:3.7 ===\n",
      "[run_backtest] is executed in 3.82 seconds\n"
     ]
    }
   ],
   "source": [
    "engine.run_backtest(target_generator=mtg, sdate='2010-01-01', edate='2021-01-01', custom_universe = custom_universe)"
   ]
  },
  {
   "cell_type": "markdown",
   "metadata": {},
   "source": [
    "### Show results\n",
    "You can view your asset allocation in engine.asset_df dataframe. Further visualization functions are in development"
   ]
  },
  {
   "cell_type": "code",
   "execution_count": 10,
   "metadata": {},
   "outputs": [
    {
     "data": {
      "text/plain": [
       "<AxesSubplot:>"
      ]
     },
     "execution_count": 10,
     "metadata": {},
     "output_type": "execute_result"
    },
    {
     "data": {
      "image/png": "[encoded data removed]",
      "text/plain": [
       "<Figure size 432x288 with 1 Axes>"
      ]
     },
     "metadata": {
      "needs_background": "light"
     },
     "output_type": "display_data"
    }
   ],
   "source": [
    "engine.asset_df.sum(axis=1).plot()"
   ]
  },
  {
   "cell_type": "code",
   "execution_count": null,
   "metadata": {},
   "outputs": [],
   "source": []
  },
  {
   "cell_type": "code",
   "execution_count": null,
   "metadata": {},
   "outputs": [],
   "source": []
  },
  {
   "cell_type": "code",
   "execution_count": null,
   "metadata": {},
   "outputs": [],
   "source": []
  },
  {
   "cell_type": "code",
   "execution_count": null,
   "metadata": {},
   "outputs": [],
   "source": []
  }
 ],
 "metadata": {
  "kernelspec": {
   "display_name": "quant",
   "language": "python",
   "name": "quant"
  },
  "language_info": {
   "codemirror_mode": {
    "name": "ipython",
    "version": 3
   },
   "file_extension": ".py",
   "mimetype": "text/x-python",
   "name": "python",
   "nbconvert_exporter": "python",
   "pygments_lexer": "ipython3",
   "version": "3.8.10"
  }
 },
 "nbformat": 4,
 "nbformat_minor": 4
}
