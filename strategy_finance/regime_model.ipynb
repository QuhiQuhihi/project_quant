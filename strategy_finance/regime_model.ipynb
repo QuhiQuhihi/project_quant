{
 "cells": [
  {
   "cell_type": "markdown",
   "metadata": {},
   "source": [
    "Regime Model Greedy Gaussian Segmentation of Multivariate Time Series"
   ]
  },
  {
   "cell_type": "code",
   "execution_count": 10,
   "metadata": {},
   "outputs": [],
   "source": [
    "import warnings\n",
    "warnings.filterwarnings('ignore')"
   ]
  },
  {
   "cell_type": "code",
   "execution_count": 11,
   "outputs": [],
   "source": [
    "from GGS.ggs import *"
   ],
   "metadata": {
    "collapsed": false,
    "pycharm": {
     "name": "#%%\n"
    }
   }
  },
  {
   "cell_type": "code",
   "execution_count": 12,
   "metadata": {},
   "outputs": [],
   "source": [
    "import itertools\n",
    "import numpy as np\n",
    "import pandas as pd\n",
    "from datetime import datetime\n",
    "\n",
    "import seaborn as sns\n",
    "import matplotlib.pyplot as plt\n",
    "from matplotlib.pyplot import cm\n",
    "from matplotlib.dates import YearLocator, MonthLocator\n",
    "plt.rcParams[\"figure.figsize\"] = (12, 8) # (width, height)\n",
    "\n",
    "import sklearn.mixture as mix\n",
    "\n",
    "from utils.index_data import index_data"
   ]
  },
  {
   "cell_type": "code",
   "execution_count": 13,
   "metadata": {},
   "outputs": [],
   "source": [
    "data_setting = {\n",
    "    'start' : '1992-01-01',\n",
    "    'end'   : '2021-06-30',\n",
    "    'rebal_period':'1M'\n",
    "}\n",
    "\n",
    "data = index_data(**data_setting)\n",
    "return_df = data.index_data_loading()"
   ]
  },
  {
   "cell_type": "code",
   "execution_count": 14,
   "outputs": [
    {
     "data": {
      "text/plain": "            msci_acwi  msci_world  msci_emerging  msci_world_gross  \\\n1992-01-31   0.000000    0.000000       0.000000         -0.031464   \n1992-02-29  -0.017548   -0.020678       0.103012         -0.023750   \n1992-03-31  -0.015102   -0.017357       0.054748         -0.048605   \n1992-04-30  -0.063123   -0.066034       0.029763         -0.011712   \n1992-05-31   0.026335    0.027579      -0.009451          0.042249   \n...               ...         ...            ...               ...   \n2021-02-28   0.009655    0.002914       0.053679          0.009748   \n2021-03-31   0.027554    0.031810       0.001014          0.007317   \n2021-04-30   0.014839    0.020293      -0.019986         -0.001131   \n2021-05-31   0.033565    0.038195       0.002734          0.044316   \n2021-06-30   0.014858    0.011310       0.038808         -0.000651   \n\n            msci_world_value  msci_real_estate  bb_world_agg  bb_emerging_agg  \\\n1992-01-31         -0.009100          0.000000     -0.002171         0.000000   \n1992-02-29         -0.014170          0.000000     -0.013095         0.000000   \n1992-03-31         -0.049508          0.000000      0.003074         0.000000   \n1992-04-30          0.035704          0.000000      0.003851         0.000000   \n1992-05-31          0.033392          0.000000      0.006528         0.000000   \n...                      ...               ...           ...              ...   \n2021-02-28         -0.003860          0.008924     -0.006128        -0.007934   \n2021-03-31          0.056323          0.007271     -0.016604        -0.013898   \n2021-04-30          0.040848          0.049885     -0.007515        -0.010507   \n2021-05-31          0.032582          0.048829      0.005114         0.009870   \n2021-06-30          0.022525          0.026639      0.001330         0.009274   \n\n            bb_corp_ig  bb_corp_hy  bb_infla_protect  snp_commodity  \n1992-01-31   -0.002588    0.035225          0.000000       0.005368  \n1992-02-29   -0.012103    0.024673          0.000000       0.025628  \n1992-03-31    0.006558    0.012399          0.000000      -0.023659  \n1992-04-30    0.005622    0.003798          0.000000       0.030560  \n1992-05-31    0.004180    0.014110          0.000000       0.023145  \n...                ...         ...               ...            ...  \n2021-02-28   -0.010356    0.004106          0.004246       0.068418  \n2021-03-31   -0.020684    0.005491         -0.020821       0.079945  \n2021-04-30   -0.008003    0.000708          0.000705       0.001453  \n2021-05-31    0.006059    0.010157          0.017477       0.075171  \n2021-06-30    0.004492    0.002682          0.008917       0.034986  \n\n[354 rows x 12 columns]",
      "text/html": "<div>\n<style scoped>\n    .dataframe tbody tr th:only-of-type {\n        vertical-align: middle;\n    }\n\n    .dataframe tbody tr th {\n        vertical-align: top;\n    }\n\n    .dataframe thead th {\n        text-align: right;\n    }\n</style>\n<table border=\"1\" class=\"dataframe\">\n  <thead>\n    <tr style=\"text-align: right;\">\n      <th></th>\n      <th>msci_acwi</th>\n      <th>msci_world</th>\n      <th>msci_emerging</th>\n      <th>msci_world_gross</th>\n      <th>msci_world_value</th>\n      <th>msci_real_estate</th>\n      <th>bb_world_agg</th>\n      <th>bb_emerging_agg</th>\n      <th>bb_corp_ig</th>\n      <th>bb_corp_hy</th>\n      <th>bb_infla_protect</th>\n      <th>snp_commodity</th>\n    </tr>\n  </thead>\n  <tbody>\n    <tr>\n      <th>1992-01-31</th>\n      <td>0.000000</td>\n      <td>0.000000</td>\n      <td>0.000000</td>\n      <td>-0.031464</td>\n      <td>-0.009100</td>\n      <td>0.000000</td>\n      <td>-0.002171</td>\n      <td>0.000000</td>\n      <td>-0.002588</td>\n      <td>0.035225</td>\n      <td>0.000000</td>\n      <td>0.005368</td>\n    </tr>\n    <tr>\n      <th>1992-02-29</th>\n      <td>-0.017548</td>\n      <td>-0.020678</td>\n      <td>0.103012</td>\n      <td>-0.023750</td>\n      <td>-0.014170</td>\n      <td>0.000000</td>\n      <td>-0.013095</td>\n      <td>0.000000</td>\n      <td>-0.012103</td>\n      <td>0.024673</td>\n      <td>0.000000</td>\n      <td>0.025628</td>\n    </tr>\n    <tr>\n      <th>1992-03-31</th>\n      <td>-0.015102</td>\n      <td>-0.017357</td>\n      <td>0.054748</td>\n      <td>-0.048605</td>\n      <td>-0.049508</td>\n      <td>0.000000</td>\n      <td>0.003074</td>\n      <td>0.000000</td>\n      <td>0.006558</td>\n      <td>0.012399</td>\n      <td>0.000000</td>\n      <td>-0.023659</td>\n    </tr>\n    <tr>\n      <th>1992-04-30</th>\n      <td>-0.063123</td>\n      <td>-0.066034</td>\n      <td>0.029763</td>\n      <td>-0.011712</td>\n      <td>0.035704</td>\n      <td>0.000000</td>\n      <td>0.003851</td>\n      <td>0.000000</td>\n      <td>0.005622</td>\n      <td>0.003798</td>\n      <td>0.000000</td>\n      <td>0.030560</td>\n    </tr>\n    <tr>\n      <th>1992-05-31</th>\n      <td>0.026335</td>\n      <td>0.027579</td>\n      <td>-0.009451</td>\n      <td>0.042249</td>\n      <td>0.033392</td>\n      <td>0.000000</td>\n      <td>0.006528</td>\n      <td>0.000000</td>\n      <td>0.004180</td>\n      <td>0.014110</td>\n      <td>0.000000</td>\n      <td>0.023145</td>\n    </tr>\n    <tr>\n      <th>...</th>\n      <td>...</td>\n      <td>...</td>\n      <td>...</td>\n      <td>...</td>\n      <td>...</td>\n      <td>...</td>\n      <td>...</td>\n      <td>...</td>\n      <td>...</td>\n      <td>...</td>\n      <td>...</td>\n      <td>...</td>\n    </tr>\n    <tr>\n      <th>2021-02-28</th>\n      <td>0.009655</td>\n      <td>0.002914</td>\n      <td>0.053679</td>\n      <td>0.009748</td>\n      <td>-0.003860</td>\n      <td>0.008924</td>\n      <td>-0.006128</td>\n      <td>-0.007934</td>\n      <td>-0.010356</td>\n      <td>0.004106</td>\n      <td>0.004246</td>\n      <td>0.068418</td>\n    </tr>\n    <tr>\n      <th>2021-03-31</th>\n      <td>0.027554</td>\n      <td>0.031810</td>\n      <td>0.001014</td>\n      <td>0.007317</td>\n      <td>0.056323</td>\n      <td>0.007271</td>\n      <td>-0.016604</td>\n      <td>-0.013898</td>\n      <td>-0.020684</td>\n      <td>0.005491</td>\n      <td>-0.020821</td>\n      <td>0.079945</td>\n    </tr>\n    <tr>\n      <th>2021-04-30</th>\n      <td>0.014839</td>\n      <td>0.020293</td>\n      <td>-0.019986</td>\n      <td>-0.001131</td>\n      <td>0.040848</td>\n      <td>0.049885</td>\n      <td>-0.007515</td>\n      <td>-0.010507</td>\n      <td>-0.008003</td>\n      <td>0.000708</td>\n      <td>0.000705</td>\n      <td>0.001453</td>\n    </tr>\n    <tr>\n      <th>2021-05-31</th>\n      <td>0.033565</td>\n      <td>0.038195</td>\n      <td>0.002734</td>\n      <td>0.044316</td>\n      <td>0.032582</td>\n      <td>0.048829</td>\n      <td>0.005114</td>\n      <td>0.009870</td>\n      <td>0.006059</td>\n      <td>0.010157</td>\n      <td>0.017477</td>\n      <td>0.075171</td>\n    </tr>\n    <tr>\n      <th>2021-06-30</th>\n      <td>0.014858</td>\n      <td>0.011310</td>\n      <td>0.038808</td>\n      <td>-0.000651</td>\n      <td>0.022525</td>\n      <td>0.026639</td>\n      <td>0.001330</td>\n      <td>0.009274</td>\n      <td>0.004492</td>\n      <td>0.002682</td>\n      <td>0.008917</td>\n      <td>0.034986</td>\n    </tr>\n  </tbody>\n</table>\n<p>354 rows × 12 columns</p>\n</div>"
     },
     "execution_count": 14,
     "metadata": {},
     "output_type": "execute_result"
    }
   ],
   "source": [
    "return_df"
   ],
   "metadata": {
    "collapsed": false,
    "pycharm": {
     "name": "#%%\n"
    }
   }
  },
  {
   "cell_type": "code",
   "execution_count": 15,
   "outputs": [
    {
     "data": {
      "text/plain": "array([[ 0.        , -0.01754782, -0.01510157, ...,  0.01483923,\n         0.03356504,  0.01485831],\n       [ 0.        , -0.02067767, -0.01735681, ...,  0.02029314,\n         0.03819463,  0.01131018],\n       [ 0.        ,  0.10301247,  0.05474808, ..., -0.01998576,\n         0.00273359,  0.03880827],\n       ...,\n       [ 0.0352255 ,  0.02467317,  0.01239892, ...,  0.00070752,\n         0.01015656,  0.0026823 ],\n       [ 0.        ,  0.        ,  0.        , ...,  0.0007054 ,\n         0.01747657,  0.008917  ],\n       [ 0.00536804,  0.0256284 , -0.02365889, ...,  0.00145341,\n         0.07517119,  0.03498576]])"
     },
     "execution_count": 15,
     "metadata": {},
     "output_type": "execute_result"
    }
   ],
   "source": [
    "return_df = return_df.T\n",
    "_return_df = np.array(return_df)\n",
    "_return_df"
   ],
   "metadata": {
    "collapsed": false,
    "pycharm": {
     "name": "#%%\n"
    }
   }
  },
  {
   "cell_type": "code",
   "execution_count": 16,
   "outputs": [],
   "source": [
    "feats = [1,2,5,6,11]"
   ],
   "metadata": {
    "collapsed": false,
    "pycharm": {
     "name": "#%%\n"
    }
   }
  },
  {
   "cell_type": "code",
   "execution_count": 17,
   "outputs": [],
   "source": [
    "bps, objectives = GGS(_return_df, Kmax = 10, lamb = 1e-4, features = feats)"
   ],
   "metadata": {
    "collapsed": false,
    "pycharm": {
     "name": "#%%\n"
    }
   }
  },
  {
   "cell_type": "code",
   "execution_count": 18,
   "outputs": [
    {
     "data": {
      "text/plain": "[0, 97, 138, 186, 199, 202, 207, 218, 248, 339, 342, 355]"
     },
     "execution_count": 18,
     "metadata": {},
     "output_type": "execute_result"
    }
   ],
   "source": [
    "bp10 = bps[10] # Get breakpoints for K = 10\n",
    "bp10"
   ],
   "metadata": {
    "collapsed": false,
    "pycharm": {
     "name": "#%%\n"
    }
   }
  },
  {
   "cell_type": "code",
   "execution_count": 19,
   "outputs": [],
   "source": [
    "meancovs = GGSMeanCov(_return_df, breakpoints = bp10, lamb = 1e-4, features = feats)"
   ],
   "metadata": {
    "collapsed": false,
    "pycharm": {
     "name": "#%%\n"
    }
   }
  },
  {
   "cell_type": "code",
   "execution_count": 20,
   "outputs": [
    {
     "name": "stdout",
     "output_type": "stream",
     "text": [
      "Breakpoints are at [[0, 355], [0, 97, 355], [0, 97, 210, 355], [0, 97, 202, 210, 355], [0, 97, 202, 210, 339, 355], [0, 97, 138, 201, 210, 339, 355], [0, 97, 138, 186, 202, 210, 339, 355], [0, 97, 138, 186, 202, 210, 339, 342, 355], [0, 97, 138, 186, 202, 210, 248, 339, 342, 355], [0, 97, 138, 186, 202, 207, 218, 248, 339, 342, 355], [0, 97, 138, 186, 199, 202, 207, 218, 248, 339, 342, 355]]\n",
      "Objectives are [12195.553385804193, 13069.078029955916, 13188.371094112845, 13312.727946566116, 13382.245063684384, 13446.889517750025, 13508.172325165642, 13572.421010725038, 13627.889860383377, 13674.52772810363, 13729.085433654804]\n"
     ]
    }
   ],
   "source": [
    "print(\"Breakpoints are at\", bps)\n",
    "print(\"Objectives are\", objectives)"
   ],
   "metadata": {
    "collapsed": false,
    "pycharm": {
     "name": "#%%\n"
    }
   }
  }
 ],
 "metadata": {
  "language_info": {
   "name": "python"
  },
  "orig_nbformat": 4
 },
 "nbformat": 4,
 "nbformat_minor": 2
}