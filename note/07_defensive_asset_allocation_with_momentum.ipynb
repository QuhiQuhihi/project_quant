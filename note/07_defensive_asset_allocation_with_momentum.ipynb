{
 "cells": [
  {
   "cell_type": "markdown",
   "metadata": {
    "collapsed": true,
    "pycharm": {
     "name": "#%% md\n"
    }
   },
   "source": [
    "# Defensive Asset Allocation with momentum\n",
    "## Use Index of representative asset classes\n",
    "#### Market Index ETF, sector etf, bond etf are included\n",
    "#### Result is driven from 2010 to 2021 market data\n"
   ]
  },
  {
   "cell_type": "code",
   "execution_count": null,
   "outputs": [],
   "source": [
    "import warnings\n",
    "warnings.filterwarnings('ignore')"
   ],
   "metadata": {
    "collapsed": false,
    "pycharm": {
     "name": "#%%\n"
    }
   }
  },
  {
   "cell_type": "code",
   "execution_count": null,
   "outputs": [],
   "source": [
    "import pandas as pd\n",
    "import numpy as np\n",
    "\n",
    "from utils.yahoo_stock_data import yahoo_data\n",
    "from utils.regular_rebalancing import momentum_rebalance_strategy\n",
    "\n",
    "%matplotlib inline\n",
    "from matplotlib import pyplot as plt\n",
    "\n",
    "import quantstats"
   ],
   "metadata": {
    "collapsed": false,
    "pycharm": {
     "name": "#%%\n"
    }
   }
  },
  {
   "cell_type": "markdown",
   "source": [
    "### Load Data of each asset classes\n",
    "##### Use representative ETF to model strategy\n",
    "##### Data should be in yld format [rows : Dates, Columns : Asset Classes, yld = log(currnet_period_price/previous_period_price]"
   ],
   "metadata": {
    "collapsed": false
   }
  },
  {
   "cell_type": "code",
   "execution_count": null,
   "outputs": [],
   "source": [
    "asset_class_ticker =[\n",
    "    \"LQD\",  # iShares iBoxx $ Investment Grade Corporate Bond ETF   2002-07-22\n",
    "    \"DBC\",  # Invesco DB Commodity Index Tracking Fund              2006-02-03\n",
    "    \"XLB\",  # The Materials Select Sector SPDR® Fund                1998-12-16\n",
    "    \"XLE\",  # The Energy Select Sector SPDR® Fund                   1998-12-22\n",
    "    \"XLF\",  # The Financial Select Sector SPDR® Fund                1998-12-22\n",
    "    \"XLI\",  # The Industrial Select Sector SPDR® Fund               1998-12-22\n",
    "    \"XLK\",  # The Technology Select Sector SPDR® Fund               1998-12-22\n",
    "    \"XME\",  # SPDR® S&P® Metals & Mining ETF                        2006-06-23\n",
    "    \"XLP\",  # The Consumer Staples Select Sector SPDR® Fund         1998-12-22\n",
    "    \"XLY\",  # The Consumer Discretionary Select Sector SPDR® Fund   1998-12-22\n",
    "    \"XLU\",  # The Utilities Select Sector SPDR® Fund                1998-12-22\n",
    "    \"XLV\",  # The Health Care Select Sector SPDR® Fund              1998-12-22\n",
    "    \"XPH\",  # SPDR® S&P® Pharmaceuticals ETF                        2006-06-22\n",
    "    \"XBI\",  # SPDR® S&P® Biotech ETF                                2006-02-06\n",
    "\n",
    "    # Defensive Assets\n",
    "    \"SHY\",  # iShares 1-3 Year Treasury Bond ETF                    2002-07-22\n",
    "    \"IEI\",  # iShares 3-7 Year Treasury Bond ETF                    2007-01-05\n",
    "\n",
    "    # Canaria Assets\n",
    "    \"VWO\",  # Vanguard FTSE Emerging Markets ETF                    2005-03-04\n",
    "    \"BND\",  # iShares 7-10 Year Treasury Bond ETF                   2002-07-22\n",
    "    ]\n",
    "\n",
    "bm_class_ticker =[\n",
    "    \"VTI\", # Vanguard Total Stock Market ETF                        2001-05-24\n",
    "    \"TLT\", # iShares 20+ Year Treasury Bond ETF                     2002-07-22\n",
    "    \"IEI\", # iShares 3-7 Year Treasury Bond ETF                     2007-01-05\n",
    "    \"GLD\", # SPDR Gold Trust                                        2004-11-18\n",
    "    \"GSG\"  # iShares S&P GSCI Commodity Indexed Trust               2006-07-10\n",
    "                    ]"
   ],
   "metadata": {
    "collapsed": false,
    "pycharm": {
     "name": "#%%\n"
    }
   }
  },
  {
   "cell_type": "code",
   "execution_count": null,
   "outputs": [],
   "source": [
    "# for weekly rebalance strategy\n",
    "data_setting = {\n",
    "    'start' : '2007-01-01',\n",
    "    'end' : '2022-03-01',\n",
    "    'ticker_list': asset_class_ticker,\n",
    "    'rebal_period' : '1W',\n",
    "}\n",
    "\n",
    "data = yahoo_data(**data_setting)\n",
    "yield_df = data.yahoo_stock_data_loading()\n",
    "yield_df\n",
    "\n",
    "# to draw benchmark\n",
    "data_setting = {\n",
    "    'start' : '2007-01-01',\n",
    "    'end' : '2022-03-01',\n",
    "    'ticker_list': bm_class_ticker,\n",
    "    'rebal_period' : '1W',\n",
    "}\n",
    "\n",
    "data = yahoo_data(**data_setting)\n",
    "benchmark_yield_df = data.yahoo_stock_data_loading()"
   ],
   "metadata": {
    "collapsed": false,
    "pycharm": {
     "name": "#%%\n"
    }
   }
  },
  {
   "cell_type": "code",
   "execution_count": null,
   "outputs": [],
   "source": [
    "def all_weather_strategy(yld_df):\n",
    "    weights = pd.DataFrame(columns=yld_df.columns, index=yld_df.index)\n",
    "    weights.loc[:,'VTI'] = 0.300\n",
    "    weights.loc[:,'TLT'] = 0.400\n",
    "    weights.loc[:,'IEI'] = 0.150\n",
    "    weights.loc[:,'GLD'] = 0.075\n",
    "    weights.loc[:,'GSG'] = 0.075\n",
    "    return weights"
   ],
   "metadata": {
    "collapsed": false,
    "pycharm": {
     "name": "#%%\n"
    }
   }
  },
  {
   "cell_type": "code",
   "execution_count": null,
   "outputs": [],
   "source": [
    "def get_momentum(yld_df):\n",
    "    \"\"\"\n",
    "    yiled_df : dataframe with weekly yield of asset classes\n",
    "    \"\"\"\n",
    "    momentum = pd.DataFrame(columns = yld_df.columns, index = yld_df.index)\n",
    "\n",
    "    for asset in  yld_df.columns:\n",
    "        i = 0\n",
    "        for date in yld_df.index:\n",
    "            # data set consists of weekly data\n",
    "            # 52 weeks per year = 12 month per year\n",
    "            if i > 52 :\n",
    "                # first 12 month data (52 data points) cannot be used since 12 month lagged returns is required\n",
    "                current = yld_df[asset].iloc[i]\n",
    "                before_1m = yld_df[asset].iloc[i-4]\n",
    "                before_3m = yld_df[asset].iloc[i-13]\n",
    "                before_6m = yld_df[asset].iloc[i-26]\n",
    "                before_12m = yld_df[asset].iloc[i-52]\n",
    "\n",
    "                momentum.loc[date, asset] = (current/before_1m - 1) * 12 + (current/before_3m - 1) * 4 \\\n",
    "                                            + (current/before_6m - 1) * 2 + (current/before_12m - 1) * 1\n",
    "            else:\n",
    "                momentum.loc[date, asset] = 0\n",
    "            i = i + 1\n",
    "\n",
    "\n",
    "    # abnormal data processing\n",
    "    momentum = momentum.replace([np.inf], 1000)\n",
    "    momentum = momentum.replace([-np.inf], -1000)\n",
    "    momentum = momentum.replace([np.nan], 0)\n",
    "\n",
    "    return momentum\n",
    "\n",
    "def select_sector(yld_df):\n",
    "    momentum_df = get_momentum(yld_df)\n",
    "    selected_momentum = pd.DataFrame(\n",
    "        columns=['momentum_1','momentum_2'],\n",
    "        index=momentum_df.index\n",
    "    )\n",
    "    selected_ticker = pd.DataFrame(\n",
    "        columns=['momentum_1','momentum_2'],\n",
    "        index=momentum_df.index\n",
    "    )\n",
    "    selectable_asset = [\n",
    "    \"LQD\",  # iShares iBoxx $ Investment Grade Corporate Bond ETF   2002-07-22\n",
    "    \"DBC\",  # Invesco DB Commodity Index Tracking Fund              2006-02-03\n",
    "    \"XLB\",  # The Materials Select Sector SPDR® Fund                1998-12-16\n",
    "    \"XLE\",  # The Energy Select Sector SPDR® Fund                   1998-12-22\n",
    "    \"XLF\",  # The Financial Select Sector SPDR® Fund                1998-12-22\n",
    "    \"XLI\",  # The Industrial Select Sector SPDR® Fund               1998-12-22\n",
    "    \"XLK\",  # The Technology Select Sector SPDR® Fund               1998-12-22\n",
    "    \"XME\",  # SPDR® S&P® Metals & Mining ETF                        2006-06-23\n",
    "    \"XLP\",  # The Consumer Staples Select Sector SPDR® Fund         1998-12-22\n",
    "    \"XLY\",  # The Consumer Discretionary Select Sector SPDR® Fund   1998-12-22\n",
    "    \"XLU\",  # The Utilities Select Sector SPDR® Fund                1998-12-22\n",
    "    \"XLV\",  # The Health Care Select Sector SPDR® Fund              1998-12-22\n",
    "    \"XPH\",  # SPDR® S&P® Pharmaceuticals ETF                        2006-06-22\n",
    "    \"XBI\",  # SPDR® S&P® Biotech ETF                                2006-02-06\n",
    "    ]\n",
    "\n",
    "    for date in momentum_df.index:\n",
    "        emerging_momentum = momentum_df.loc[date,'VWO']\n",
    "        bnd_momentum = momentum_df.loc[date,'BND']\n",
    "\n",
    "        sorted_momentum = momentum_df.loc[date].sort_values(ascending=False)\n",
    "\n",
    "        for i in selectable_asset:\n",
    "\n",
    "            if emerging_momentum >= 0 and bnd_momentum >= 0:\n",
    "                selected_momentum.loc[date,f'momentum_{i+1}'] = sorted_momentum[i]\n",
    "                selected_ticker.loc[date,f'momentum_{i+1}'] = sorted_momentum.index[i]\n",
    "            else:\n",
    "                selected_momentum.loc[date,f'momentum_{i+1}'] = sorted_momentum[i]\n",
    "                selected_ticker.loc[date,f'momentum_{i+1}'] = sorted_momentum.index[i]\n",
    "\n",
    "\n",
    "\n",
    "\n",
    "            if sorted_momentum[i] <= shy_momentum:\n",
    "                selected_momentum.loc[date,f'momentum_{i+1}'] = shy_momentum\n",
    "                selected_ticker.loc[date,f'momentum_{i+1}'] = 'SHY'\n",
    "            elif sorted_momentum[i] >= sp500_momentum:\n",
    "                selected_momentum.loc[date,f'momentum_{i+1}'] = sorted_momentum[i]\n",
    "                selected_ticker.loc[date,f'momentum_{i+1}'] = sorted_momentum.index[i]\n",
    "            # if sector momentum score is below S&P500, and above SHY, choose SP500\n",
    "            elif sorted_momentum[i] <= sp500_momentum and sorted_momentum[i] >= shy_momentum:\n",
    "                selected_momentum.loc[date,f'momentum_{i+1}'] = sp500_momentum\n",
    "                selected_ticker.loc[date,f'momentum_{i+1}'] = 'IVV'\n",
    "            # if momentum is below zero, escape to SHY\n",
    "            elif sorted_momentum[i] <= 0 :\n",
    "                selected_momentum.loc[date,f'momentum_{i+1}'] = shy_momentum\n",
    "                selected_ticker.loc[date,f'momentum_{i+1}'] = 'SHY'\n",
    "            else:\n",
    "                selected_momentum.loc[date,f'momentum_{i+1}'] = shy_momentum\n",
    "                selected_ticker.loc[date,f'momentum_{i+1}'] = 'SHY'\n",
    "\n",
    "\n",
    "        for i in range(len(selected_momentum.columns)):\n",
    "            selected_momentum.loc[date,f'momentum_{i+1}'] = sorted_momentum[i]\n",
    "            selected_ticker.loc[date,f'momentum_{i+1}'] = sorted_momentum.index[i]\n",
    "\n",
    "    return selected_ticker\n",
    "\n",
    "\n",
    "def sector_momentum(yld_df):\n",
    "    mom_ticker_df = select_sector(yld_df)\n",
    "    mp_table = pd.DataFrame(columns=yld_df.columns, index=yld_df.index)\n",
    "    for date in yld_df.index:\n",
    "        selected = mom_ticker_df.loc[date].tolist()\n",
    "        for sel in selected:\n",
    "            mp_table.loc[date, sel] = 1/5\n",
    "    mp_table = mp_table.fillna(0)\n",
    "\n",
    "    return mp_table\n"
   ],
   "metadata": {
    "collapsed": false,
    "pycharm": {
     "name": "#%%\n"
    }
   }
  },
  {
   "cell_type": "code",
   "execution_count": null,
   "outputs": [],
   "source": [
    "mp_table_result = sector_momentum(yield_df)\n",
    "mp_table_result"
   ],
   "metadata": {
    "collapsed": false,
    "pycharm": {
     "name": "#%%\n"
    }
   }
  },
  {
   "cell_type": "code",
   "execution_count": null,
   "outputs": [],
   "source": [
    "def trim_data(yld_df, mp_table, benchmark_yield_df):\n",
    "\n",
    "    yld_df = yld_df.iloc[52 + 1:]\n",
    "    mp_table = mp_table.iloc[52 + 1:]\n",
    "    benchmark_yield_df = benchmark_yield_df.iloc[52 + 1:]\n",
    "    return yld_df, mp_table, benchmark_yield_df\n",
    "yield_df, mp_table_result, benchmark_yield_df = trim_data(yield_df, mp_table_result, benchmark_yield_df)"
   ],
   "metadata": {
    "collapsed": false,
    "pycharm": {
     "name": "#%%\n"
    }
   }
  },
  {
   "cell_type": "code",
   "execution_count": null,
   "outputs": [],
   "source": [
    "mp_table_result"
   ],
   "metadata": {
    "collapsed": false,
    "pycharm": {
     "name": "#%%\n"
    }
   }
  },
  {
   "cell_type": "code",
   "execution_count": null,
   "outputs": [],
   "source": [
    "rebal_strategy = momentum_rebalance_strategy(\n",
    "    strategy=sector_momentum, yld_df=yield_df,\n",
    "    bm_strategy=sp500_buy_hold_strategy, bm_yld_df=benchmark_yield_df,\n",
    "    lookback_period=0\n",
    ")\n",
    "\n",
    "\n",
    "\n",
    "\n",
    "\n",
    "\n"
   ],
   "metadata": {
    "collapsed": false,
    "pycharm": {
     "name": "#%%\n"
    }
   }
  }
 ],
 "metadata": {
  "kernelspec": {
   "display_name": "Python 3",
   "language": "python",
   "name": "python3"
  },
  "language_info": {
   "codemirror_mode": {
    "name": "ipython",
    "version": 2
   },
   "file_extension": ".py",
   "mimetype": "text/x-python",
   "name": "python",
   "nbconvert_exporter": "python",
   "pygments_lexer": "ipython2",
   "version": "2.7.6"
  }
 },
 "nbformat": 4,
 "nbformat_minor": 0
}