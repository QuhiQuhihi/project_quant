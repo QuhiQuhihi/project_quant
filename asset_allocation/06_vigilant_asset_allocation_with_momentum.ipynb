{
 "cells": [
  {
   "cell_type": "markdown",
   "source": [
    "# Vigiliant Asset Allocation with momentum\n",
    "#### Representative asset classes including Market Index ETF, sector etf, bond etf\n",
    "#### Result is driven from 2007 to 2021 market data"
   ],
   "metadata": {
    "collapsed": false
   }
  },
  {
   "cell_type": "code",
   "execution_count": null,
   "outputs": [],
   "source": [
    "import warnings\n",
    "warnings.filterwarnings('ignore')"
   ],
   "metadata": {
    "collapsed": false,
    "pycharm": {
     "name": "#%%\n"
    }
   }
  },
  {
   "cell_type": "code",
   "execution_count": null,
   "outputs": [],
   "source": [
    "import pandas as pd\n",
    "import numpy as np\n",
    "\n",
    "from utils.yahoo_stock_data import yahoo_data\n",
    "from utils.regular_rebalancing import momentum_rebalance_strategy\n",
    "\n",
    "import quantstats"
   ],
   "metadata": {
    "collapsed": false,
    "pycharm": {
     "name": "#%%\n"
    }
   }
  },
  {
   "cell_type": "markdown",
   "source": [
    "### Load Data of each asset classes\n",
    "#### Use representative ETF to model strategy. Data should be in yld format\n",
    "#### [rows : Dates, Columns : Asset Classes, yld = log(currnet_period_price/previous_period_price]"
   ],
   "metadata": {
    "collapsed": false
   }
  },
  {
   "cell_type": "code",
   "execution_count": null,
   "outputs": [],
   "source": [
    "asset_class_ticker =[\n",
    "    # Offensive Assets\n",
    "    \"IVV\",  # iShares Core S&P 500 ETF                              2000-05-15\n",
    "    \"VEA\",  # Vanguard FTSE Developed Markets ETF                   2007-07-02\n",
    "    \"VWO\",  # Vanguard FTSE Emerging Markets ETF                    2005-03-04\n",
    "    \"LQD\",  # iShares iBoxx $ Investment Grade Corporate Bond ETF   2002-07-22\n",
    "\n",
    "    # Defensive Assets\n",
    "    \"SHY\",  # iShares 1-3 Year Treasury Bond ETF                    2002-07-22\n",
    "    \"IEI\",  # iShares 3-7 Year Treasury Bond ETF                    2007-01-05\n",
    "    \"BND\",  # iShares 7-10 Year Treasury Bond ETF                   2002-07-22\n",
    "    \"TIP\",  # iShares TIPS Bond ETF                                 2003-12-04\n",
    "    ]\n",
    "\n",
    "bm_class_ticker =[\n",
    "    \"VTI\", # Vanguard Total Stock Market ETF                        2001-05-24\n",
    "    \"TLT\", # iShares 20+ Year Treasury Bond ETF                     2002-07-22\n",
    "    \"IEI\", # iShares 3-7 Year Treasury Bond ETF                     2007-01-05\n",
    "    \"GLD\", # SPDR Gold Trust                                        2004-11-18\n",
    "    \"GSG\"  # iShares S&P GSCI Commodity Indexed Trust               2006-07-10\n",
    "                    ]"
   ],
   "metadata": {
    "collapsed": false,
    "pycharm": {
     "name": "#%%\n"
    }
   }
  },
  {
   "cell_type": "code",
   "execution_count": null,
   "outputs": [],
   "source": [
    "# for weekly rebalance strategy\n",
    "data_setting = {\n",
    "    'start' : '2007-01-01',\n",
    "    'end' : '2022-03-01',\n",
    "    'ticker_list': asset_class_ticker,\n",
    "    'rebal_period' : '1M',\n",
    "}\n",
    "\n",
    "data = yahoo_data(**data_setting)\n",
    "yield_df = data.yahoo_stock_data_loading()\n",
    "\n",
    "# to draw benchmark\n",
    "data_setting = {\n",
    "    'start' : '2007-01-01',\n",
    "    'end' : '2022-03-01',\n",
    "    'ticker_list': bm_class_ticker,\n",
    "    'rebal_period' : '1M',\n",
    "}\n",
    "\n",
    "data = yahoo_data(**data_setting)\n",
    "benchmark_yield_df = data.yahoo_stock_data_loading()\n",
    "windows = 12"
   ],
   "metadata": {
    "collapsed": false,
    "pycharm": {
     "name": "#%%\n"
    }
   }
  },
  {
   "cell_type": "code",
   "execution_count": null,
   "outputs": [],
   "source": [
    "def all_weather_strategy(yld_df):\n",
    "    weights = pd.DataFrame(columns=yld_df.columns, index=yld_df.index)\n",
    "    weights.loc[:,'VTI'] = 0.300\n",
    "    weights.loc[:,'TLT'] = 0.400\n",
    "    weights.loc[:,'IEI'] = 0.150\n",
    "    weights.loc[:,'GLD'] = 0.075\n",
    "    weights.loc[:,'GSG'] = 0.075\n",
    "    return weights"
   ],
   "metadata": {
    "collapsed": false,
    "pycharm": {
     "name": "#%%\n"
    }
   }
  },
  {
   "cell_type": "code",
   "execution_count": null,
   "outputs": [],
   "source": [
    "def get_momentum(yld_df):\n",
    "    \"\"\"\n",
    "    calculate momentum of sectors. using 12 month, 6 month, 3 month market price of asset\n",
    "    input\n",
    "    yiled_df : dataframe with weekly yield of asset classes\n",
    "\n",
    "    returns : momentum in pandas dataframe format. momentum of each asset classes for give date\n",
    "    \"\"\"\n",
    "    momentum = pd.DataFrame(columns = yld_df.columns, index = yld_df.index)\n",
    "\n",
    "    for asset in  yld_df.columns:\n",
    "        i = 0\n",
    "        for date in yld_df.index:\n",
    "            # data set consists of weekly data, 52 weeks per year = 12 month per year\n",
    "            if i > windows :\n",
    "                # first 12 month data (52 data points) cannot be used since 12 month lagged returns is required\n",
    "                current = yld_df[asset].iloc[i]\n",
    "                before_1m = yld_df[asset].iloc[i-1]\n",
    "                before_3m = yld_df[asset].iloc[i-3]\n",
    "                before_6m = yld_df[asset].iloc[i-6]\n",
    "                before_12m = yld_df[asset].iloc[i-12]\n",
    "\n",
    "                momentum.loc[date, asset] = 12*(current/before_1m - 1) + 4*(current/before_3m - 1) \\\n",
    "                                            + 2*(current/before_6m - 1) + 1*(current/before_12m - 1)\n",
    "            else:\n",
    "                momentum.loc[date, asset] = 0\n",
    "            i = i + 1\n",
    "\n",
    "    # abnormal data processing\n",
    "    momentum = momentum.replace([np.inf], 1000)\n",
    "    momentum = momentum.replace([-np.inf], -1000)\n",
    "    momentum = momentum.replace([np.nan], 0)\n",
    "\n",
    "    return momentum\n",
    "\n",
    "def select_sector(yld_df):\n",
    "    \"\"\"\n",
    "    select top 4 offensive sectors if condition satisfied.\n",
    "    If failed to satisfy offensive condition, escape to Defensive strategy.\n",
    "\n",
    "    Criteria: if any of offensive asset classes show negative momentum score, escape to defensive assets.\n",
    "\n",
    "    returns: selected_tickers in list format. list with top 5 momentum in given period`\n",
    "    \"\"\"\n",
    "    momentum_df = get_momentum(yld_df)\n",
    "\n",
    "    selected_momentum = pd.DataFrame(\n",
    "        columns=['momentum_1','momentum_2','momentum_3','momentum_4'],\n",
    "        index=momentum_df.index\n",
    "    )\n",
    "    selected_ticker = pd.DataFrame(\n",
    "        columns=['momentum_1','momentum_2','momentum_3','momentum_4'],\n",
    "        index=momentum_df.index\n",
    "    )\n",
    "\n",
    "    print(\"S&P500 market signal : Total \",momentum_df.count()[0])\n",
    "    print(\"postive signal : \", momentum_df[momentum_df['IVV'] >= 0]['IVV'].count())\n",
    "    print(\"negative signal : \", momentum_df[momentum_df['IVV'] < 0]['IVV'].count())\n",
    "\n",
    "\n",
    "    print(\"Developed market signal : Total \",momentum_df.count()[0])\n",
    "    print(\"postive signal : \", momentum_df[momentum_df['VEA'] >= 0]['VEA'].count())\n",
    "    print(\"negative signal : \", momentum_df[momentum_df['VEA'] < 0]['VEA'].count())\n",
    "\n",
    "    print(\"Emerging market signal : Total \",momentum_df.count()[0])\n",
    "    print(\"postive signal : \", momentum_df[momentum_df['VWO'] >= 0]['VWO'].count())\n",
    "    print(\"negative signal : \", momentum_df[momentum_df['VWO'] < 0]['VWO'].count())\n",
    "\n",
    "    print(\"Corporate bond market signal : Total \",momentum_df.count()[0])\n",
    "    print(\"postive signal : \", momentum_df[momentum_df['LQD'] >= 0]['LQD'].count())\n",
    "    print(\"negative signal : \", momentum_df[momentum_df['LQD'] < 0]['LQD'].count())\n",
    "\n",
    "    for date in momentum_df.index:\n",
    "        snp_momentum = momentum_df.loc[date,'IVV']\n",
    "        dev_momentum = momentum_df.loc[date,'VEA']\n",
    "        eme_momentum = momentum_df.loc[date,'VWO']\n",
    "        bnd_momentum = momentum_df.loc[date,'LQD']\n",
    "\n",
    "        short_momentum = momentum_df.loc[date,'SHY']\n",
    "        mid_momentum = momentum_df.loc[date,'IEI']\n",
    "        long_momentum = momentum_df.loc[date,'BND']\n",
    "        tip_momentum = momentum_df.loc[date,'TIP']\n",
    "\n",
    "        if snp_momentum >= 0 and dev_momentum >= 0 and eme_momentum >= 0 and bnd_momentum >= 0:\n",
    "            selected_momentum.loc[date,'momentum_1'] = snp_momentum\n",
    "            selected_ticker.loc[date,'momentum_1'] = 'IVV'\n",
    "\n",
    "            selected_momentum.loc[date,'momentum_2'] = dev_momentum\n",
    "            selected_ticker.loc[date,'momentum_2'] = 'VEA'\n",
    "\n",
    "            selected_momentum.loc[date,'momentum_3'] = eme_momentum\n",
    "            selected_ticker.loc[date,'momentum_3'] = 'VWO'\n",
    "\n",
    "            selected_momentum.loc[date,'momentum_4'] = bnd_momentum\n",
    "            selected_ticker.loc[date,'momentum_4'] = 'LQD'\n",
    "\n",
    "        else:\n",
    "            selected_momentum.loc[date,'momentum_1'] = short_momentum\n",
    "            selected_ticker.loc[date,'momentum_1'] = 'SHY'\n",
    "\n",
    "            selected_momentum.loc[date,'momentum_2'] = mid_momentum\n",
    "            selected_ticker.loc[date,'momentum_2'] = 'IEI'\n",
    "\n",
    "            selected_momentum.loc[date,'momentum_3'] = long_momentum\n",
    "            selected_ticker.loc[date,'momentum_3'] = 'BND'\n",
    "\n",
    "            selected_momentum.loc[date,'momentum_4'] = tip_momentum\n",
    "            selected_ticker.loc[date,'momentum_4'] = 'TIP'\n",
    "\n",
    "    return selected_ticker\n",
    "\n",
    "\n",
    "def vaa_momentum(yld_df):\n",
    "    \"\"\"\n",
    "    returns : market portfolio in pandas dataframe format.\n",
    "    \"\"\"\n",
    "    mom_ticker_df = select_sector(yld_df)\n",
    "    mp_table = pd.DataFrame(columns=yld_df.columns, index=yld_df.index)\n",
    "    for date in mom_ticker_df.index:\n",
    "        selected = mom_ticker_df.loc[date].tolist()\n",
    "        for sel in selected:\n",
    "            mp_table.loc[date, sel] = 1/4\n",
    "    mp_table = mp_table.fillna(0)\n",
    "    return mp_table\n",
    "\n",
    "def trim_data(yld_df, mp_table, benchmark_yield_df):\n",
    "   \"\"\"\n",
    "    since momentum strategy uses 12 month lagged momentum, first 12 month data cannot be used\n",
    "    return : yld_df, mp_table, bm_yld in dataframe format\n",
    "    \"\"\"\n",
    "    yld_df = yld_df.iloc[windows + 1:]\n",
    "    mp_table = mp_table.iloc[windows + 1:]\n",
    "    benchmark_yield_df = benchmark_yield_df.iloc[windows + 1:]\n",
    "    return yld_df, mp_table, benchmark_yield_df"
   ],
   "metadata": {
    "collapsed": false,
    "pycharm": {
     "name": "#%%\n"
    }
   }
  },
  {
   "cell_type": "code",
   "execution_count": null,
   "outputs": [],
   "source": [
    "mp_table_result = vaa_momentum(yield_df)\n",
    "yield_df, mp_table_result, benchmark_yield_df = trim_data(yield_df, mp_table_result, benchmark_yield_df)"
   ],
   "metadata": {
    "collapsed": false,
    "pycharm": {
     "name": "#%%\n"
    }
   }
  },
  {
   "cell_type": "code",
   "execution_count": null,
   "outputs": [],
   "source": [
    "# How many times this strategy escaped from risky but opprotunistic assets\n",
    "print(\"frequency of portfolio\")\n",
    "mp_table_result.sum() * 2\n",
    "# escaped quite a lot of times..."
   ],
   "metadata": {
    "collapsed": false,
    "pycharm": {
     "name": "#%%\n"
    }
   }
  },
  {
   "cell_type": "code",
   "execution_count": null,
   "outputs": [],
   "source": [
    "rebal_strategy = momentum_rebalance_strategy(\n",
    "    strategy=vaa_momentum, yld_df=yield_df,\n",
    "    bm_strategy=all_weather_strategy, bm_yld_df=benchmark_yield_df,\n",
    "    lookback_period=0\n",
    ")\n",
    "rebal_strategy = rebal_strategy.iloc[52:]\n",
    "rebal_strategy"
   ],
   "metadata": {
    "collapsed": false,
    "pycharm": {
     "name": "#%%\n"
    }
   }
  },
  {
   "cell_type": "code",
   "execution_count": null,
   "outputs": [],
   "source": [
    "quantstats.reports.plots(returns = rebal_strategy.loc[ : , 'strategy_return'],benchmark = rebal_strategy.loc[ :, 'benchmark_return'], mode='basic')"
   ],
   "metadata": {
    "collapsed": false,
    "pycharm": {
     "name": "#%%\n"
    }
   }
  },
  {
   "cell_type": "code",
   "execution_count": null,
   "outputs": [],
   "source": [
    "quantstats.reports.plots(returns = rebal_strategy.loc[ : , 'strategy_return'],benchmark = rebal_strategy.loc[ :, 'benchmark_return'], mode='basic')"
   ],
   "metadata": {
    "collapsed": false,
    "pycharm": {
     "name": "#%%\n"
    }
   }
  },
  {
   "cell_type": "code",
   "execution_count": null,
   "outputs": [],
   "source": [
    "quantstats.reports.full(returns = rebal_strategy.loc[ : , 'strategy_return'],benchmark = rebal_strategy.loc[ :, 'benchmark_return'],)"
   ],
   "metadata": {
    "collapsed": false,
    "pycharm": {
     "name": "#%%\n"
    }
   }
  },
  {
   "cell_type": "code",
   "execution_count": null,
   "outputs": [],
   "source": [
    "canaria = yield_df[['IVV','VEA','VWO','LQD']]\n",
    "canaria.corr()"
   ],
   "metadata": {
    "collapsed": false,
    "pycharm": {
     "name": "#%%\n"
    }
   }
  },
  {
   "cell_type": "code",
   "execution_count": null,
   "outputs": [],
   "source": [
    "snp_dev_same_direction = len(canaria[canaria['IVV'] * canaria['VEA'] >= 0])\n",
    "snp_em_same_direction = len(canaria[canaria['IVV'] * canaria['VWO'] >= 0])\n",
    "snp_bnd_same_direction = len(canaria[canaria['IVV'] * canaria['LQD'] >= 0])\n",
    "print(\"same direction rate follows : \")\n",
    "print(\"developed market : \" ,snp_dev_same_direction/len(canaria))\n",
    "print(\"emerging market : \" ,snp_em_same_direction/len(canaria))\n",
    "print(\"corp bond market : \" ,snp_bnd_same_direction/len(canaria))\n"
   ],
   "metadata": {
    "collapsed": false,
    "pycharm": {
     "name": "#%%\n"
    }
   }
  },
  {
   "cell_type": "markdown",
   "source": [
    "## Why this strategy always escape from market\n",
    "\n",
    "|Monthly Signal|S&P500|Developed|Emerging|CorpBond|\n",
    "|---|---|---|---|---|\n",
    "|**Postive**|50|56|50|55|\n",
    "|**Negative**|126|120|126|121|\n",
    "\n",
    "#### canaria option acts if any canaria condition satisfied.\n",
    "wrong way pattern of corporate bond market triggered sategy pin too often,\n",
    "this means that corporate bond market triggered the strategy to escape from market,\n",
    "meaning that huge opportunity cost from rising developed equity market"
   ],
   "metadata": {
    "collapsed": false,
    "pycharm": {
     "name": "#%% md\n"
    }
   }
  }
 ],
 "metadata": {
  "kernelspec": {
   "display_name": "Python 3",
   "language": "python",
   "name": "python3"
  },
  "language_info": {
   "codemirror_mode": {
    "name": "ipython",
    "version": 2
   },
   "file_extension": ".py",
   "mimetype": "text/x-python",
   "name": "python",
   "nbconvert_exporter": "python",
   "pygments_lexer": "ipython2",
   "version": "2.7.6"
  }
 },
 "nbformat": 4,
 "nbformat_minor": 0
}